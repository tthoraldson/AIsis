{
 "cells": [
  {
   "cell_type": "code",
   "execution_count": 1,
   "metadata": {},
   "outputs": [],
   "source": [
    "import pandas as pd"
   ]
  },
  {
   "cell_type": "code",
   "execution_count": 37,
   "metadata": {},
   "outputs": [],
   "source": [
    "data = pd.DataFrame(columns=[\"song_name\", \"lyrics\"])"
   ]
  },
  {
   "cell_type": "code",
   "execution_count": 82,
   "metadata": {},
   "outputs": [
    {
     "name": "stderr",
     "output_type": "stream",
     "text": [
      "/var/folders/f1/h55w4kj150x0s8c3jwhkkygw0000gn/T/ipykernel_37160/282514074.py:54: FutureWarning: The frame.append method is deprecated and will be removed from pandas in a future version. Use pandas.concat instead.\n",
      "  data = data.append(song, ignore_index=True)\n"
     ]
    }
   ],
   "source": [
    "song = {\"song_name\": \"Sad Song\",\n",
    "        \"lyrics\": '''Sing a sad song\n",
    "In a lonely place\n",
    "Try to put a word in for me\n",
    "It's been so long\n",
    "Since I found this space\n",
    "You better put in two or three\n",
    "We as people, are just walking 'round\n",
    "Our heads are firmly fixed in the ground\n",
    "What we don't see\n",
    "Well it can't be real\n",
    "What we don't touch we cannot feel\n",
    "\n",
    "Where we're living in this town\n",
    "The sun is coming up and it's going down\n",
    "But it's all just the same at the end of the day\n",
    "And we cheat and we lie\n",
    "Nobody says it's wrong so we don't ask why\n",
    "'Cause it's all just the same at the end of the day\n",
    "We're throwing it all away\n",
    "We're throwing it all away\n",
    "We're throwing it all away at the end of the day\n",
    "\n",
    "If you need it\n",
    "Something I can give\n",
    "I know I'd help you if I can\n",
    "If you're honest and you say that you did\n",
    "You know that I would give you my hand\n",
    "Or a sad song\n",
    "In a lonely place\n",
    "I'll try to put a word in for you\n",
    "Need a shoulder?\n",
    "Well if that's the case\n",
    "You know there's nothing I wouldn't do\n",
    "\n",
    "Where we're living in this town\n",
    "The sun is coming up and it's going down\n",
    "But it's all just the same at the end of the day\n",
    "When we cheat and we lie\n",
    "Nobody says it's wrong so we don't ask why\n",
    "'Cause it's all just the same at the end of the day\n",
    "Don't throw it all away\n",
    "Don't throw it all away\n",
    "Don't throw it all away\n",
    "Don't throw it all away\n",
    "Throwing it all away\n",
    "Throwing it all away\n",
    "Throwing it all away\n",
    "Throwing it all away\n",
    "Throwing it all away\n",
    "You're throwing it all away at the end of the day\n",
    "'''}\n",
    "data['lyrics'] = data['lyrics'].replace('\\n', ' ')\n",
    "data = data.append(song, ignore_index=True)"
   ]
  },
  {
   "cell_type": "code",
   "execution_count": 83,
   "metadata": {},
   "outputs": [
    {
     "data": {
      "text/html": [
       "<div>\n",
       "<style scoped>\n",
       "    .dataframe tbody tr th:only-of-type {\n",
       "        vertical-align: middle;\n",
       "    }\n",
       "\n",
       "    .dataframe tbody tr th {\n",
       "        vertical-align: top;\n",
       "    }\n",
       "\n",
       "    .dataframe thead th {\n",
       "        text-align: right;\n",
       "    }\n",
       "</style>\n",
       "<table border=\"1\" class=\"dataframe\">\n",
       "  <thead>\n",
       "    <tr style=\"text-align: right;\">\n",
       "      <th></th>\n",
       "      <th>song_name</th>\n",
       "      <th>lyrics</th>\n",
       "    </tr>\n",
       "  </thead>\n",
       "  <tbody>\n",
       "    <tr>\n",
       "      <th>0</th>\n",
       "      <td>Shakermaker</td>\n",
       "      <td>I'd like to be somebody else\\nAnd not know whe...</td>\n",
       "    </tr>\n",
       "    <tr>\n",
       "      <th>1</th>\n",
       "      <td>Rock 'n' Roll Star</td>\n",
       "      <td>I live my life in the city\\nAnd there's no eas...</td>\n",
       "    </tr>\n",
       "    <tr>\n",
       "      <th>2</th>\n",
       "      <td>Live Forever</td>\n",
       "      <td>Maybe I don't really wanna know\\nHow your gard...</td>\n",
       "    </tr>\n",
       "    <tr>\n",
       "      <th>3</th>\n",
       "      <td>Up In The Sky</td>\n",
       "      <td>Hey, you! Up in the sky\\nLearning to fly, tell...</td>\n",
       "    </tr>\n",
       "    <tr>\n",
       "      <th>4</th>\n",
       "      <td>Columbia</td>\n",
       "      <td>I've seen so much to disgust mother, take me i...</td>\n",
       "    </tr>\n",
       "    <tr>\n",
       "      <th>5</th>\n",
       "      <td>Supersonic</td>\n",
       "      <td>I need to be myself\\nI can't be no-one else\\nI...</td>\n",
       "    </tr>\n",
       "    <tr>\n",
       "      <th>6</th>\n",
       "      <td>Bring It On Down</td>\n",
       "      <td>What was that sound ringing around your brain?...</td>\n",
       "    </tr>\n",
       "    <tr>\n",
       "      <th>7</th>\n",
       "      <td>Cigarettes &amp; Alcohol</td>\n",
       "      <td>Is it my imagination\\nOr have I finally found ...</td>\n",
       "    </tr>\n",
       "    <tr>\n",
       "      <th>8</th>\n",
       "      <td>Digsy's Dinner</td>\n",
       "      <td>What a life it would be\\nIf you could come to ...</td>\n",
       "    </tr>\n",
       "    <tr>\n",
       "      <th>9</th>\n",
       "      <td>Slide Away</td>\n",
       "      <td>Slide away and give it all you've got\\nMy toda...</td>\n",
       "    </tr>\n",
       "    <tr>\n",
       "      <th>10</th>\n",
       "      <td>Married With Children</td>\n",
       "      <td>There's no need for you to say you're sorry\\nG...</td>\n",
       "    </tr>\n",
       "    <tr>\n",
       "      <th>11</th>\n",
       "      <td>Sad Song</td>\n",
       "      <td>Sing a sad song\\nIn a lonely place\\nTry to put...</td>\n",
       "    </tr>\n",
       "  </tbody>\n",
       "</table>\n",
       "</div>"
      ],
      "text/plain": [
       "                song_name                                             lyrics\n",
       "0             Shakermaker  I'd like to be somebody else\\nAnd not know whe...\n",
       "1      Rock 'n' Roll Star  I live my life in the city\\nAnd there's no eas...\n",
       "2            Live Forever  Maybe I don't really wanna know\\nHow your gard...\n",
       "3           Up In The Sky  Hey, you! Up in the sky\\nLearning to fly, tell...\n",
       "4                Columbia  I've seen so much to disgust mother, take me i...\n",
       "5              Supersonic  I need to be myself\\nI can't be no-one else\\nI...\n",
       "6        Bring It On Down  What was that sound ringing around your brain?...\n",
       "7    Cigarettes & Alcohol  Is it my imagination\\nOr have I finally found ...\n",
       "8          Digsy's Dinner  What a life it would be\\nIf you could come to ...\n",
       "9              Slide Away  Slide away and give it all you've got\\nMy toda...\n",
       "10  Married With Children  There's no need for you to say you're sorry\\nG...\n",
       "11               Sad Song  Sing a sad song\\nIn a lonely place\\nTry to put..."
      ]
     },
     "execution_count": 83,
     "metadata": {},
     "output_type": "execute_result"
    }
   ],
   "source": [
    "data.head(100)"
   ]
  },
  {
   "cell_type": "code",
   "execution_count": 84,
   "metadata": {},
   "outputs": [],
   "source": [
    "data.to_csv('oasislyrics.csv')"
   ]
  },
  {
   "cell_type": "code",
   "execution_count": null,
   "metadata": {},
   "outputs": [],
   "source": []
  }
 ],
 "metadata": {
  "kernelspec": {
   "display_name": "sa",
   "language": "python",
   "name": "python3"
  },
  "language_info": {
   "codemirror_mode": {
    "name": "ipython",
    "version": 3
   },
   "file_extension": ".py",
   "mimetype": "text/x-python",
   "name": "python",
   "nbconvert_exporter": "python",
   "pygments_lexer": "ipython3",
   "version": "3.10.6"
  },
  "orig_nbformat": 4,
  "vscode": {
   "interpreter": {
    "hash": "3c2d8bd39aad336dff246d65522143636c9c883d8b67cd06b71a6cbbcb0fbba9"
   }
  }
 },
 "nbformat": 4,
 "nbformat_minor": 2
}
